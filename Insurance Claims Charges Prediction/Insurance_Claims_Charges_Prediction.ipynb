{
 "cells": [
  {
   "cell_type": "markdown",
   "id": "6308104f",
   "metadata": {},
   "source": [
    "# Insurance Claims Charges Prediction"
   ]
  },
  {
   "cell_type": "markdown",
   "id": "fff857f1",
   "metadata": {},
   "source": [
    "## Importing libraries"
   ]
  },
  {
   "cell_type": "code",
   "execution_count": null,
   "id": "e4e07e7a",
   "metadata": {},
   "outputs": [],
   "source": [
    "import numpy as np\n",
    "import pandas as pd\n",
    "import matplotlib.pyplot as plt\n",
    "import seaborn as sns\n",
    "import warnings\n",
    "warnings.filterwarnings(\"ignore\")"
   ]
  },
  {
   "cell_type": "markdown",
   "id": "aec470d1",
   "metadata": {},
   "source": [
    "## Importing dataset"
   ]
  },
  {
   "cell_type": "code",
   "execution_count": null,
   "id": "790743ed",
   "metadata": {},
   "outputs": [],
   "source": [
    "df = pd.read_csv('insurance.csv')\n",
    "df.sample(10)"
   ]
  },
  {
   "cell_type": "code",
   "execution_count": null,
   "id": "42c999d2",
   "metadata": {},
   "outputs": [],
   "source": [
    "df.shape"
   ]
  },
  {
   "cell_type": "code",
   "execution_count": null,
   "id": "1020db2a",
   "metadata": {},
   "outputs": [],
   "source": [
    "df.columns"
   ]
  },
  {
   "cell_type": "code",
   "execution_count": null,
   "id": "f10b3963",
   "metadata": {},
   "outputs": [],
   "source": [
    "df.nunique()"
   ]
  },
  {
   "cell_type": "code",
   "execution_count": null,
   "id": "1ab533d5",
   "metadata": {},
   "outputs": [],
   "source": [
    "df.isnull().sum()"
   ]
  },
  {
   "cell_type": "code",
   "execution_count": null,
   "id": "cf20cce4",
   "metadata": {},
   "outputs": [],
   "source": [
    "df.info()"
   ]
  },
  {
   "cell_type": "code",
   "execution_count": null,
   "id": "871dd87f",
   "metadata": {},
   "outputs": [],
   "source": [
    "df.describe()"
   ]
  },
  {
   "cell_type": "code",
   "execution_count": null,
   "id": "00a529e9",
   "metadata": {},
   "outputs": [],
   "source": [
    "df['smoker'].value_counts()"
   ]
  },
  {
   "cell_type": "markdown",
   "id": "303e3af4",
   "metadata": {},
   "source": [
    "## EDA"
   ]
  },
  {
   "cell_type": "code",
   "execution_count": null,
   "id": "d3c90891",
   "metadata": {},
   "outputs": [],
   "source": [
    "for column in df.columns[0:-1]:\n",
    "    plt.figure(figsize=(12,8))\n",
    "    sns.barplot(x=(column), y='charges',data=df)"
   ]
  },
  {
   "cell_type": "code",
   "execution_count": null,
   "id": "07f23e7d",
   "metadata": {},
   "outputs": [],
   "source": [
    "df.hist(figsize=(10,10))"
   ]
  },
  {
   "cell_type": "code",
   "execution_count": null,
   "id": "6141d0cb",
   "metadata": {},
   "outputs": [],
   "source": [
    "corr = df.corr()\n",
    "features = corr.index\n",
    "plt.figure(figsize=(10,10))\n",
    "ax = sns.heatmap(df[features].corr(),annot=True,cmap='RdYlGn')"
   ]
  },
  {
   "cell_type": "markdown",
   "id": "15e82c11",
   "metadata": {},
   "source": [
    "## Replacing categorical to numerical"
   ]
  },
  {
   "cell_type": "code",
   "execution_count": null,
   "id": "e583815d",
   "metadata": {},
   "outputs": [],
   "source": [
    "df['sex'] = df['sex'].replace({'female' : 0, 'male' : 1})"
   ]
  },
  {
   "cell_type": "code",
   "execution_count": null,
   "id": "97f2c882",
   "metadata": {},
   "outputs": [],
   "source": [
    "df['smoker'] = df['smoker'].replace({'no' : 0, 'yes' : 1})"
   ]
  },
  {
   "cell_type": "code",
   "execution_count": null,
   "id": "a8c019e6",
   "metadata": {},
   "outputs": [],
   "source": [
    "df=df.drop('region', axis=1)"
   ]
  },
  {
   "cell_type": "code",
   "execution_count": null,
   "id": "3ff32e06",
   "metadata": {},
   "outputs": [],
   "source": [
    "df"
   ]
  },
  {
   "cell_type": "code",
   "execution_count": null,
   "id": "ae746f73",
   "metadata": {},
   "outputs": [],
   "source": [
    "df['sex'].value_counts()"
   ]
  },
  {
   "cell_type": "markdown",
   "id": "fac6cd97",
   "metadata": {},
   "source": [
    "## Train Test Split"
   ]
  },
  {
   "cell_type": "code",
   "execution_count": null,
   "id": "565f522d",
   "metadata": {},
   "outputs": [],
   "source": [
    "y = df['charges']\n",
    "X = df.drop(['charges'],axis=1)"
   ]
  },
  {
   "cell_type": "code",
   "execution_count": null,
   "id": "7dfe40a6",
   "metadata": {},
   "outputs": [],
   "source": [
    "from sklearn.model_selection import train_test_split\n",
    "X_train, X_test, y_train, y_test = train_test_split(X, y, test_size=0.2, random_state=42, shuffle=True)"
   ]
  },
  {
   "cell_type": "code",
   "execution_count": null,
   "id": "0f7c8346",
   "metadata": {},
   "outputs": [],
   "source": [
    "print(\"X_train shape:\",X_train.shape)\n",
    "print(\"y_train shape: \",y_train.shape)\n",
    "print(\"X_test shape:\", X_test.shape)\n",
    "print(\"y_test shape:\", y_test.shape)"
   ]
  },
  {
   "cell_type": "markdown",
   "id": "67171020",
   "metadata": {},
   "source": [
    "## Feature Scaling"
   ]
  },
  {
   "cell_type": "code",
   "execution_count": null,
   "id": "6b701a24",
   "metadata": {},
   "outputs": [],
   "source": [
    "from sklearn.preprocessing import StandardScaler\n",
    "scaler = StandardScaler()\n",
    "X_train_scaled = pd.DataFrame(scaler.fit_transform(X_train),columns=X_train.columns)\n",
    "X_train_scaled"
   ]
  },
  {
   "cell_type": "code",
   "execution_count": null,
   "id": "9196c66a",
   "metadata": {},
   "outputs": [],
   "source": [
    "X_test_scaled = pd.DataFrame(scaler.transform(X_test),columns=X_test.columns)\n",
    "X_test_scaled"
   ]
  },
  {
   "cell_type": "markdown",
   "id": "86afc051",
   "metadata": {},
   "source": [
    "## Model Training and Evaluation"
   ]
  },
  {
   "cell_type": "markdown",
   "id": "c8688534",
   "metadata": {},
   "source": [
    "### Linear Regression"
   ]
  },
  {
   "cell_type": "code",
   "execution_count": null,
   "id": "4c966bb4",
   "metadata": {},
   "outputs": [],
   "source": [
    "from sklearn.linear_model import LinearRegression\n",
    "from sklearn.metrics import mean_squared_error, accuracy_score, r2_score\n",
    "from math import sqrt"
   ]
  },
  {
   "cell_type": "code",
   "execution_count": null,
   "id": "bb3e5b84",
   "metadata": {},
   "outputs": [],
   "source": [
    "model1=LinearRegression()\n",
    "model1.fit(X_train_scaled, y_train)\n",
    "print(\"Training accuracy: \", model1.score(X_train_scaled, y_train))\n",
    "\n",
    "y_pred = model1.predict(X_test_scaled)\n",
    "\n",
    "MSE1 = mean_squared_error(y_test, y_pred))\n",
    "print(\"Mean Squared Error: \", MSE1)\n",
    "\n",
    "RMSE1 = sqrt(MSE1)\n",
    "print(\"Root Mean Squared Error: \", RMSE1) #RMSE = sqrt(mean_squared_error(y_test, y_pred))  \n",
    "\n",
    "R2_1 = r2_score(y_test, y_pred)\n",
    "print(\"R2: \", R2_1)"
   ]
  },
  {
   "cell_type": "markdown",
   "id": "6c7b0f65",
   "metadata": {},
   "source": [
    "### Support Vector Machine"
   ]
  },
  {
   "cell_type": "code",
   "execution_count": null,
   "id": "4a1088a8",
   "metadata": {},
   "outputs": [],
   "source": [
    "from sklearn.svm import SVR\n",
    "\n",
    "model2 = SVR()\n",
    "model2.fit(X_train_scaled, y_train)\n",
    "print(\"Training accuracy: \",model2.score(X_train_scaled, y_train))\n",
    "\n",
    "y_predict = model2.predict(X_test_scaled)\n",
    "\n",
    "MSE2 = mean_squared_error(y_test, y_predict)\n",
    "print(\"Mean Squared Error: \", MSE2)\n",
    "\n",
    "RMSE2 = sqrt(MSE2)\n",
    "print(\"Root Mean Squared Error: \", RMSE2)\n",
    "\n",
    "R2_2 = r2_score(y_test, y_predict)\n",
    "print('R2 :', R2_2)"
   ]
  },
  {
   "cell_type": "markdown",
   "id": "e2342b55",
   "metadata": {},
   "source": [
    "### Decision Tree"
   ]
  },
  {
   "cell_type": "code",
   "execution_count": null,
   "id": "9af00ed5",
   "metadata": {},
   "outputs": [],
   "source": [
    "from sklearn.ensemble import DecisionTreeRegressor\n",
    "\n",
    "model3 = DecisionTreeRegressor()\n",
    "model3.fit(X_train_Scaled, y_train)\n",
    "print(\"Training accuracy: \", model3.score(X_train_scaled, y_train))\n",
    "\n",
    "y_predic = model3.predict(X_test_scaled)\n",
    "\n",
    "MSE3 = mean_squared_error(y_test, y_predic)\n",
    "print (\"Mean Squared Error: \", MSE3)\n",
    "\n",
    "RMSE3 = sqrt(MSE3)\n",
    "print(\"Root Mean Squared Error: \", RMSE3))\n",
    "\n",
    "R2_3 = r2_score(y_test, y_predic)\n",
    "print(\"R2 :\", R2_3)"
   ]
  },
  {
   "cell_type": "markdown",
   "id": "ab420755",
   "metadata": {},
   "source": [
    "### Random Forest"
   ]
  },
  {
   "cell_type": "code",
   "execution_count": null,
   "id": "d2965de4",
   "metadata": {},
   "outputs": [],
   "source": [
    "from sklearn.ensemble import RandomForestRegressor\n",
    "\n",
    "model4 = RandomForestRegressor()\n",
    "model4.fit(X_train_Scaled, y_train)\n",
    "print(\"Training accuracy: \", model4.score(X_train_scaled, y_train))\n",
    "\n",
    "y_prediction = model4.predict(X_test_scaled)\n",
    "\n",
    "MSE4 = mean_squared_error(y_test, y_prediction)\n",
    "print (\"Mean Squared Error: \", MSE4)\n",
    "\n",
    "RMSE4 = sqrt(MSE3)\n",
    "print(\"Root Mean Squared Error: \", RMSE4))\n",
    "\n",
    "R2_4 = r2_score(y_test, y_prediction)\n",
    "print(\"R2 :\", R2_4)"
   ]
  }
 ],
 "metadata": {
  "kernelspec": {
   "display_name": "Python 3 (ipykernel)",
   "language": "python",
   "name": "python3"
  },
  "language_info": {
   "codemirror_mode": {
    "name": "ipython",
    "version": 3
   },
   "file_extension": ".py",
   "mimetype": "text/x-python",
   "name": "python",
   "nbconvert_exporter": "python",
   "pygments_lexer": "ipython3",
   "version": "3.9.10"
  }
 },
 "nbformat": 4,
 "nbformat_minor": 5
}
